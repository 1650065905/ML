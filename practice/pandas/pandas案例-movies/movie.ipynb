{
 "cells": [
  {
   "cell_type": "code",
   "execution_count": 98,
   "metadata": {
    "collapsed": true
   },
   "outputs": [],
   "source": [
    "import pandas as pd\n",
    "import numpy as np"
   ]
  },
  {
   "cell_type": "code",
   "execution_count": 18,
   "metadata": {
    "collapsed": false
   },
   "outputs": [],
   "source": [
    "%more README"
   ]
  },
  {
   "cell_type": "code",
   "execution_count": 99,
   "metadata": {
    "collapsed": false
   },
   "outputs": [
    {
     "name": "stderr",
     "output_type": "stream",
     "text": [
      "D:\\Program Files (86)\\anaconda3\\lib\\site-packages\\ipykernel\\__main__.py:4: ParserWarning: Falling back to the 'python' engine because the 'c' engine does not support regex separators (separators > 1 char and different from '\\s+' are interpreted as regex); you can avoid this warning by specifying engine='python'.\n"
     ]
    },
    {
     "data": {
      "text/html": [
       "<div>\n",
       "<table border=\"1\" class=\"dataframe\">\n",
       "  <thead>\n",
       "    <tr style=\"text-align: right;\">\n",
       "      <th></th>\n",
       "      <th>userid</th>\n",
       "      <th>gender</th>\n",
       "      <th>age</th>\n",
       "      <th>occupation</th>\n",
       "      <th>zip</th>\n",
       "    </tr>\n",
       "  </thead>\n",
       "  <tbody>\n",
       "    <tr>\n",
       "      <th>0</th>\n",
       "      <td>1</td>\n",
       "      <td>F</td>\n",
       "      <td>1</td>\n",
       "      <td>10</td>\n",
       "      <td>48067</td>\n",
       "    </tr>\n",
       "    <tr>\n",
       "      <th>1</th>\n",
       "      <td>2</td>\n",
       "      <td>M</td>\n",
       "      <td>56</td>\n",
       "      <td>16</td>\n",
       "      <td>70072</td>\n",
       "    </tr>\n",
       "    <tr>\n",
       "      <th>2</th>\n",
       "      <td>3</td>\n",
       "      <td>M</td>\n",
       "      <td>25</td>\n",
       "      <td>15</td>\n",
       "      <td>55117</td>\n",
       "    </tr>\n",
       "    <tr>\n",
       "      <th>3</th>\n",
       "      <td>4</td>\n",
       "      <td>M</td>\n",
       "      <td>45</td>\n",
       "      <td>7</td>\n",
       "      <td>02460</td>\n",
       "    </tr>\n",
       "    <tr>\n",
       "      <th>4</th>\n",
       "      <td>5</td>\n",
       "      <td>M</td>\n",
       "      <td>25</td>\n",
       "      <td>20</td>\n",
       "      <td>55455</td>\n",
       "    </tr>\n",
       "    <tr>\n",
       "      <th>5</th>\n",
       "      <td>6</td>\n",
       "      <td>F</td>\n",
       "      <td>50</td>\n",
       "      <td>9</td>\n",
       "      <td>55117</td>\n",
       "    </tr>\n",
       "    <tr>\n",
       "      <th>6</th>\n",
       "      <td>7</td>\n",
       "      <td>M</td>\n",
       "      <td>35</td>\n",
       "      <td>1</td>\n",
       "      <td>06810</td>\n",
       "    </tr>\n",
       "    <tr>\n",
       "      <th>7</th>\n",
       "      <td>8</td>\n",
       "      <td>M</td>\n",
       "      <td>25</td>\n",
       "      <td>12</td>\n",
       "      <td>11413</td>\n",
       "    </tr>\n",
       "    <tr>\n",
       "      <th>8</th>\n",
       "      <td>9</td>\n",
       "      <td>M</td>\n",
       "      <td>25</td>\n",
       "      <td>17</td>\n",
       "      <td>61614</td>\n",
       "    </tr>\n",
       "    <tr>\n",
       "      <th>9</th>\n",
       "      <td>10</td>\n",
       "      <td>F</td>\n",
       "      <td>35</td>\n",
       "      <td>1</td>\n",
       "      <td>95370</td>\n",
       "    </tr>\n",
       "  </tbody>\n",
       "</table>\n",
       "</div>"
      ],
      "text/plain": [
       "   userid gender  age  occupation    zip\n",
       "0       1      F    1          10  48067\n",
       "1       2      M   56          16  70072\n",
       "2       3      M   25          15  55117\n",
       "3       4      M   45           7  02460\n",
       "4       5      M   25          20  55455\n",
       "5       6      F   50           9  55117\n",
       "6       7      M   35           1  06810\n",
       "7       8      M   25          12  11413\n",
       "8       9      M   25          17  61614\n",
       "9      10      F   35           1  95370"
      ]
     },
     "execution_count": 99,
     "metadata": {},
     "output_type": "execute_result"
    }
   ],
   "source": [
    "#读取用户表\n",
    "#%more users.dat\n",
    "unmaes=['userid','gender','age','occupation','zip']\n",
    "users=pd.read_csv('users.dat',names=unmaes,sep='::')\n",
    "users.head(10)"
   ]
  },
  {
   "cell_type": "code",
   "execution_count": 29,
   "metadata": {
    "collapsed": false
   },
   "outputs": [
    {
     "name": "stderr",
     "output_type": "stream",
     "text": [
      "D:\\Program Files (86)\\anaconda3\\lib\\site-packages\\ipykernel\\__main__.py:4: ParserWarning: Falling back to the 'python' engine because the 'c' engine does not support regex separators (separators > 1 char and different from '\\s+' are interpreted as regex); you can avoid this warning by specifying engine='python'.\n"
     ]
    },
    {
     "name": "stdout",
     "output_type": "stream",
     "text": [
      "1000209\n",
      "1000209\n",
      "1000209\n"
     ]
    }
   ],
   "source": [
    "#读取评分表\n",
    "#%more ratings.dat\n",
    "rating_name=['userid','movieid','rating','timestamp']\n",
    "ratings=pd.read_csv('ratings.dat',names=rating_name,sep='::')\n",
    "print(len(ratings))\n",
    "print(ratings['userid'].size)\n",
    "print(len(ratings.index))\n",
    "#ratings.head(5)"
   ]
  },
  {
   "cell_type": "code",
   "execution_count": 30,
   "metadata": {
    "collapsed": false
   },
   "outputs": [],
   "source": [
    "#%ls"
   ]
  },
  {
   "cell_type": "code",
   "execution_count": 38,
   "metadata": {
    "collapsed": false
   },
   "outputs": [
    {
     "name": "stdout",
     "output_type": "stream",
     "text": [
      "3883\n"
     ]
    },
    {
     "name": "stderr",
     "output_type": "stream",
     "text": [
      "D:\\Program Files (86)\\anaconda3\\lib\\site-packages\\ipykernel\\__main__.py:3: ParserWarning: Falling back to the 'python' engine because the 'c' engine does not support regex separators (separators > 1 char and different from '\\s+' are interpreted as regex); you can avoid this warning by specifying engine='python'.\n",
      "  app.launch_new_instance()\n"
     ]
    },
    {
     "data": {
      "text/html": [
       "<div>\n",
       "<table border=\"1\" class=\"dataframe\">\n",
       "  <thead>\n",
       "    <tr style=\"text-align: right;\">\n",
       "      <th></th>\n",
       "      <th>movieid</th>\n",
       "      <th>title</th>\n",
       "      <th>geners</th>\n",
       "    </tr>\n",
       "  </thead>\n",
       "  <tbody>\n",
       "    <tr>\n",
       "      <th>0</th>\n",
       "      <td>1</td>\n",
       "      <td>Toy Story (1995)</td>\n",
       "      <td>Animation|Children's|Comedy</td>\n",
       "    </tr>\n",
       "    <tr>\n",
       "      <th>1</th>\n",
       "      <td>2</td>\n",
       "      <td>Jumanji (1995)</td>\n",
       "      <td>Adventure|Children's|Fantasy</td>\n",
       "    </tr>\n",
       "    <tr>\n",
       "      <th>2</th>\n",
       "      <td>3</td>\n",
       "      <td>Grumpier Old Men (1995)</td>\n",
       "      <td>Comedy|Romance</td>\n",
       "    </tr>\n",
       "    <tr>\n",
       "      <th>3</th>\n",
       "      <td>4</td>\n",
       "      <td>Waiting to Exhale (1995)</td>\n",
       "      <td>Comedy|Drama</td>\n",
       "    </tr>\n",
       "    <tr>\n",
       "      <th>4</th>\n",
       "      <td>5</td>\n",
       "      <td>Father of the Bride Part II (1995)</td>\n",
       "      <td>Comedy</td>\n",
       "    </tr>\n",
       "  </tbody>\n",
       "</table>\n",
       "</div>"
      ],
      "text/plain": [
       "   movieid                               title                        geners\n",
       "0        1                    Toy Story (1995)   Animation|Children's|Comedy\n",
       "1        2                      Jumanji (1995)  Adventure|Children's|Fantasy\n",
       "2        3             Grumpier Old Men (1995)                Comedy|Romance\n",
       "3        4            Waiting to Exhale (1995)                  Comedy|Drama\n",
       "4        5  Father of the Bride Part II (1995)                        Comedy"
      ]
     },
     "execution_count": 38,
     "metadata": {},
     "output_type": "execute_result"
    }
   ],
   "source": [
    "#读取电影表\n",
    "movie_names=['movieid','title','geners']\n",
    "movies=pd.read_csv('movies.dat',names=movie_names,sep='::')\n",
    "print(len(movies))\n",
    "movies.head(5)"
   ]
  },
  {
   "cell_type": "code",
   "execution_count": 100,
   "metadata": {
    "collapsed": false
   },
   "outputs": [
    {
     "data": {
      "text/html": [
       "<div>\n",
       "<table border=\"1\" class=\"dataframe\">\n",
       "  <thead>\n",
       "    <tr style=\"text-align: right;\">\n",
       "      <th></th>\n",
       "      <th>userid</th>\n",
       "      <th>gender</th>\n",
       "      <th>age</th>\n",
       "      <th>occupation</th>\n",
       "      <th>zip</th>\n",
       "      <th>movieid</th>\n",
       "      <th>rating</th>\n",
       "      <th>timestamp</th>\n",
       "      <th>title</th>\n",
       "      <th>geners</th>\n",
       "    </tr>\n",
       "  </thead>\n",
       "  <tbody>\n",
       "    <tr>\n",
       "      <th>0</th>\n",
       "      <td>1</td>\n",
       "      <td>F</td>\n",
       "      <td>1</td>\n",
       "      <td>10</td>\n",
       "      <td>48067</td>\n",
       "      <td>1193</td>\n",
       "      <td>5</td>\n",
       "      <td>978300760</td>\n",
       "      <td>One Flew Over the Cuckoo's Nest (1975)</td>\n",
       "      <td>Drama</td>\n",
       "    </tr>\n",
       "    <tr>\n",
       "      <th>1</th>\n",
       "      <td>2</td>\n",
       "      <td>M</td>\n",
       "      <td>56</td>\n",
       "      <td>16</td>\n",
       "      <td>70072</td>\n",
       "      <td>1193</td>\n",
       "      <td>5</td>\n",
       "      <td>978298413</td>\n",
       "      <td>One Flew Over the Cuckoo's Nest (1975)</td>\n",
       "      <td>Drama</td>\n",
       "    </tr>\n",
       "    <tr>\n",
       "      <th>2</th>\n",
       "      <td>12</td>\n",
       "      <td>M</td>\n",
       "      <td>25</td>\n",
       "      <td>12</td>\n",
       "      <td>32793</td>\n",
       "      <td>1193</td>\n",
       "      <td>4</td>\n",
       "      <td>978220179</td>\n",
       "      <td>One Flew Over the Cuckoo's Nest (1975)</td>\n",
       "      <td>Drama</td>\n",
       "    </tr>\n",
       "    <tr>\n",
       "      <th>3</th>\n",
       "      <td>15</td>\n",
       "      <td>M</td>\n",
       "      <td>25</td>\n",
       "      <td>7</td>\n",
       "      <td>22903</td>\n",
       "      <td>1193</td>\n",
       "      <td>4</td>\n",
       "      <td>978199279</td>\n",
       "      <td>One Flew Over the Cuckoo's Nest (1975)</td>\n",
       "      <td>Drama</td>\n",
       "    </tr>\n",
       "    <tr>\n",
       "      <th>4</th>\n",
       "      <td>17</td>\n",
       "      <td>M</td>\n",
       "      <td>50</td>\n",
       "      <td>1</td>\n",
       "      <td>95350</td>\n",
       "      <td>1193</td>\n",
       "      <td>5</td>\n",
       "      <td>978158471</td>\n",
       "      <td>One Flew Over the Cuckoo's Nest (1975)</td>\n",
       "      <td>Drama</td>\n",
       "    </tr>\n",
       "  </tbody>\n",
       "</table>\n",
       "</div>"
      ],
      "text/plain": [
       "   userid gender  age  occupation    zip  movieid  rating  timestamp  \\\n",
       "0       1      F    1          10  48067     1193       5  978300760   \n",
       "1       2      M   56          16  70072     1193       5  978298413   \n",
       "2      12      M   25          12  32793     1193       4  978220179   \n",
       "3      15      M   25           7  22903     1193       4  978199279   \n",
       "4      17      M   50           1  95350     1193       5  978158471   \n",
       "\n",
       "                                    title geners  \n",
       "0  One Flew Over the Cuckoo's Nest (1975)  Drama  \n",
       "1  One Flew Over the Cuckoo's Nest (1975)  Drama  \n",
       "2  One Flew Over the Cuckoo's Nest (1975)  Drama  \n",
       "3  One Flew Over the Cuckoo's Nest (1975)  Drama  \n",
       "4  One Flew Over the Cuckoo's Nest (1975)  Drama  "
      ]
     },
     "execution_count": 100,
     "metadata": {},
     "output_type": "execute_result"
    }
   ],
   "source": [
    "#合并表\n",
    "data=pd.merge(pd.merge(users,ratings,left_on='userid',right_on='userid'),\\\n",
    "                     movies,left_on='movieid',right_on='movieid')  \n",
    "rating_merge.head(5)"
   ]
  },
  {
   "cell_type": "code",
   "execution_count": 103,
   "metadata": {
    "collapsed": false
   },
   "outputs": [
    {
     "data": {
      "text/html": [
       "<div>\n",
       "<table border=\"1\" class=\"dataframe\">\n",
       "  <thead>\n",
       "    <tr style=\"text-align: right;\">\n",
       "      <th>gender</th>\n",
       "      <th>F</th>\n",
       "      <th>M</th>\n",
       "    </tr>\n",
       "    <tr>\n",
       "      <th>title</th>\n",
       "      <th></th>\n",
       "      <th></th>\n",
       "    </tr>\n",
       "  </thead>\n",
       "  <tbody>\n",
       "    <tr>\n",
       "      <th>$1,000,000 Duck (1971)</th>\n",
       "      <td>3.375000</td>\n",
       "      <td>2.761905</td>\n",
       "    </tr>\n",
       "    <tr>\n",
       "      <th>'Night Mother (1986)</th>\n",
       "      <td>3.388889</td>\n",
       "      <td>3.352941</td>\n",
       "    </tr>\n",
       "    <tr>\n",
       "      <th>'Til There Was You (1997)</th>\n",
       "      <td>2.675676</td>\n",
       "      <td>2.733333</td>\n",
       "    </tr>\n",
       "    <tr>\n",
       "      <th>'burbs, The (1989)</th>\n",
       "      <td>2.793478</td>\n",
       "      <td>2.962085</td>\n",
       "    </tr>\n",
       "    <tr>\n",
       "      <th>...And Justice for All (1979)</th>\n",
       "      <td>3.828571</td>\n",
       "      <td>3.689024</td>\n",
       "    </tr>\n",
       "  </tbody>\n",
       "</table>\n",
       "</div>"
      ],
      "text/plain": [
       "gender                                F         M\n",
       "title                                            \n",
       "$1,000,000 Duck (1971)         3.375000  2.761905\n",
       "'Night Mother (1986)           3.388889  3.352941\n",
       "'Til There Was You (1997)      2.675676  2.733333\n",
       "'burbs, The (1989)             2.793478  2.962085\n",
       "...And Justice for All (1979)  3.828571  3.689024"
      ]
     },
     "execution_count": 103,
     "metadata": {},
     "output_type": "execute_result"
    }
   ],
   "source": [
    "#查看不同性别对电影的评分\n",
    "rating_by_gender=pd.pivot_table(data,values='rating',\\\n",
    "                            columns='gender',index='title',aggfunc='mean')\n",
    "rating_gender.head(5)\n",
    "#print(type(rating_gender))"
   ]
  },
  {
   "cell_type": "code",
   "execution_count": 104,
   "metadata": {
    "collapsed": false
   },
   "outputs": [
    {
     "data": {
      "text/html": [
       "<div>\n",
       "<table border=\"1\" class=\"dataframe\">\n",
       "  <thead>\n",
       "    <tr style=\"text-align: right;\">\n",
       "      <th>gender</th>\n",
       "      <th>F</th>\n",
       "      <th>M</th>\n",
       "      <th>diff</th>\n",
       "    </tr>\n",
       "    <tr>\n",
       "      <th>title</th>\n",
       "      <th></th>\n",
       "      <th></th>\n",
       "      <th></th>\n",
       "    </tr>\n",
       "  </thead>\n",
       "  <tbody>\n",
       "    <tr>\n",
       "      <th>Tigrero: A Film That Was Never Made (1994)</th>\n",
       "      <td>1.0</td>\n",
       "      <td>4.333333</td>\n",
       "      <td>3.333333</td>\n",
       "    </tr>\n",
       "    <tr>\n",
       "      <th>Spiders, The (Die Spinnen, 1. Teil: Der Goldene See) (1919)</th>\n",
       "      <td>4.0</td>\n",
       "      <td>1.000000</td>\n",
       "      <td>3.000000</td>\n",
       "    </tr>\n",
       "    <tr>\n",
       "      <th>Neon Bible, The (1995)</th>\n",
       "      <td>1.0</td>\n",
       "      <td>4.000000</td>\n",
       "      <td>3.000000</td>\n",
       "    </tr>\n",
       "    <tr>\n",
       "      <th>James Dean Story, The (1957)</th>\n",
       "      <td>4.0</td>\n",
       "      <td>1.000000</td>\n",
       "      <td>3.000000</td>\n",
       "    </tr>\n",
       "    <tr>\n",
       "      <th>Country Life (1994)</th>\n",
       "      <td>5.0</td>\n",
       "      <td>2.000000</td>\n",
       "      <td>3.000000</td>\n",
       "    </tr>\n",
       "  </tbody>\n",
       "</table>\n",
       "</div>"
      ],
      "text/plain": [
       "gender                                                F         M      diff\n",
       "title                                                                      \n",
       "Tigrero: A Film That Was Never Made (1994)          1.0  4.333333  3.333333\n",
       "Spiders, The (Die Spinnen, 1. Teil: Der Goldene...  4.0  1.000000  3.000000\n",
       "Neon Bible, The (1995)                              1.0  4.000000  3.000000\n",
       "James Dean Story, The (1957)                        4.0  1.000000  3.000000\n",
       "Country Life (1994)                                 5.0  2.000000  3.000000"
      ]
     },
     "execution_count": 104,
     "metadata": {},
     "output_type": "execute_result"
    }
   ],
   "source": [
    "#不同性别差异最大的电影\n",
    "rating_by_gender['diff']=np.fabs(rating_by_gender['F']-rating_by_gender['M'])\n",
    "rating_by_gender.sort_values('diff',ascending=False).head(5)"
   ]
  },
  {
   "cell_type": "code",
   "execution_count": 144,
   "metadata": {
    "collapsed": false
   },
   "outputs": [],
   "source": [
    "#查找出热门电影，热门榜单\n",
    "#rating_merge['title'].value_counts()\n",
    "rating_by_title=data.groupby('title')['userid'].size()\n",
    "rating_by_title=rating_by_title.sort_values(ascending=False)"
   ]
  },
  {
   "cell_type": "code",
   "execution_count": 145,
   "metadata": {
    "collapsed": false
   },
   "outputs": [],
   "source": [
    "#每部电影的评分（平均发放）高分榜单\n",
    "# rating_mean_title=rating_merge.groupby('title')['rating'].mean()\n",
    "# rating_mean_title.sort_values(ascending=False).head(10)\n",
    "mean_ratings=pd.pivot_table(data,'rating',index='title',aggfunc='mean')\n",
    "mean_ratings=mean_ratings.sort_values(ascending=False)\n",
    "#mean_ratings"
   ]
  },
  {
   "cell_type": "code",
   "execution_count": 146,
   "metadata": {
    "collapsed": false
   },
   "outputs": [
    {
     "data": {
      "text/plain": [
       "title\n",
       "American Beauty (1999)                                   4.317386\n",
       "Star Wars: Episode IV - A New Hope (1977)                4.453694\n",
       "Star Wars: Episode V - The Empire Strikes Back (1980)    4.292977\n",
       "Star Wars: Episode VI - Return of the Jedi (1983)        4.022893\n",
       "Jurassic Park (1993)                                     3.763847\n",
       "Saving Private Ryan (1998)                               4.337354\n",
       "Terminator 2: Judgment Day (1991)                        4.058513\n",
       "Matrix, The (1999)                                       4.315830\n",
       "Back to the Future (1985)                                3.990321\n",
       "Silence of the Lambs, The (1991)                         4.351823\n",
       "Name: rating, dtype: float64"
      ]
     },
     "execution_count": 146,
     "metadata": {},
     "output_type": "execute_result"
    }
   ],
   "source": [
    "#前十大热门电影的评分\n",
    "# top_10_movie=pd.merge(pd.DataFrame(rating_by_title),pd.DataFrame(mean_ratings),left_index=True,right_index=True)\n",
    "# top_10_movie\n",
    "top_10_movie=mean_ratings[rating_by_title.head(10).index]\n",
    "top_10_movie"
   ]
  },
  {
   "cell_type": "code",
   "execution_count": 147,
   "metadata": {
    "collapsed": false
   },
   "outputs": [
    {
     "data": {
      "text/plain": [
       "title\n",
       "Gate of Heavenly Peace, The (1995)                                        3\n",
       "Lured (1947)                                                              1\n",
       "Ulysses (Ulisse) (1954)                                                   1\n",
       "Smashing Time (1967)                                                      2\n",
       "Follow the Bitch (1998)                                                   1\n",
       "Song of Freedom (1936)                                                    1\n",
       "Bittersweet Motel (2000)                                                  1\n",
       "Baby, The (1973)                                                          1\n",
       "One Little Indian (1973)                                                  1\n",
       "Schlafes Bruder (Brother of Sleep) (1995)                                 1\n",
       "I Am Cuba (Soy Cuba/Ya Kuba) (1964)                                       5\n",
       "Lamerica (1994)                                                           8\n",
       "Apple, The (Sib) (1998)                                                   9\n",
       "Sanjuro (1962)                                                           69\n",
       "Seven Samurai (The Magnificent Seven) (Shichinin no samurai) (1954)     628\n",
       "Shawshank Redemption, The (1994)                                       2227\n",
       "Godfather, The (1972)                                                  2223\n",
       "Close Shave, A (1995)                                                   657\n",
       "Usual Suspects, The (1995)                                             1783\n",
       "Schindler's List (1993)                                                2304\n",
       "dtype: int64"
      ]
     },
     "execution_count": 147,
     "metadata": {},
     "output_type": "execute_result"
    }
   ],
   "source": [
    "#前20名高分电影的热度\n",
    "rating_by_title[mean_ratings.head(20).index]"
   ]
  },
  {
   "cell_type": "code",
   "execution_count": 151,
   "metadata": {
    "collapsed": false
   },
   "outputs": [
    {
     "data": {
      "text/plain": [
       "title\n",
       "Shawshank Redemption, The (1994)                                               4.554558\n",
       "Godfather, The (1972)                                                          4.524966\n",
       "Usual Suspects, The (1995)                                                     4.517106\n",
       "Schindler's List (1993)                                                        4.510417\n",
       "Raiders of the Lost Ark (1981)                                                 4.477725\n",
       "Rear Window (1954)                                                             4.476190\n",
       "Star Wars: Episode IV - A New Hope (1977)                                      4.453694\n",
       "Dr. Strangelove or: How I Learned to Stop Worrying and Love the Bomb (1963)    4.449890\n",
       "Casablanca (1942)                                                              4.412822\n",
       "Sixth Sense, The (1999)                                                        4.406263\n",
       "Maltese Falcon, The (1941)                                                     4.395973\n",
       "One Flew Over the Cuckoo's Nest (1975)                                         4.390725\n",
       "Citizen Kane (1941)                                                            4.388889\n",
       "North by Northwest (1959)                                                      4.384030\n",
       "Godfather: Part II, The (1974)                                                 4.357565\n",
       "Silence of the Lambs, The (1991)                                               4.351823\n",
       "Chinatown (1974)                                                               4.339241\n",
       "Saving Private Ryan (1998)                                                     4.337354\n",
       "Monty Python and the Holy Grail (1974)                                         4.335210\n",
       "Life Is Beautiful (La Vita � bella) (1997)                                     4.329861\n",
       "Sting, The (1973)                                                              4.320305\n",
       "American Beauty (1999)                                                         4.317386\n",
       "Matrix, The (1999)                                                             4.315830\n",
       "Princess Bride, The (1987)                                                     4.303710\n",
       "Boat, The (Das Boot) (1981)                                                    4.302697\n",
       "Star Wars: Episode V - The Empire Strikes Back (1980)                          4.292977\n",
       "Pulp Fiction (1994)                                                            4.278213\n",
       "GoodFellas (1990)                                                              4.275196\n",
       "Blade Runner (1982)                                                            4.273333\n",
       "Fargo (1996)                                                                   4.254676\n",
       "                                                                                 ...   \n",
       "Superman (1978)                                                                3.536825\n",
       "Sleepy Hollow (1999)                                                           3.516886\n",
       "Independence Day (ID4) (1996)                                                  3.510405\n",
       "Talented Mr. Ripley, The (1999)                                                3.503381\n",
       "Ghost (1990)                                                                   3.496441\n",
       "Stargate (1994)                                                                3.490143\n",
       "Robocop (1987)                                                                 3.451587\n",
       "Fly, The (1986)                                                                3.440710\n",
       "Mission: Impossible (1996)                                                     3.432875\n",
       "Splash (1984)                                                                  3.430782\n",
       "Star Wars: Episode I - The Phantom Menace (1999)                               3.409778\n",
       "Star Trek VI: The Undiscovered Country (1991)                                  3.409590\n",
       "Face/Off (1997)                                                                3.401126\n",
       "Austin Powers: The Spy Who Shagged Me (1999)                                   3.388424\n",
       "Perfect Storm, The (2000)                                                      3.351431\n",
       "Back to the Future Part II (1989)                                              3.343696\n",
       "Mummy, The (1999)                                                              3.321748\n",
       "Rocky Horror Picture Show, The (1975)                                          3.291160\n",
       "Mask, The (1994)                                                               3.279050\n",
       "Back to the Future Part III (1990)                                             3.242160\n",
       "Mission: Impossible 2 (2000)                                                   3.195735\n",
       "Armageddon (1998)                                                              3.191892\n",
       "Twister (1996)                                                                 3.173874\n",
       "Starship Troopers (1997)                                                       3.133276\n",
       "Lost World: Jurassic Park, The (1997)                                          3.036653\n",
       "Blair Witch Project, The (1999)                                                3.031528\n",
       "Arachnophobia (1990)                                                           3.002926\n",
       "Batman Returns (1992)                                                          2.976722\n",
       "Honey, I Shrunk the Kids (1989)                                                2.933014\n",
       "Mars Attacks! (1996)                                                           2.900372\n",
       "Name: rating, dtype: float64"
      ]
     },
     "execution_count": 151,
     "metadata": {},
     "output_type": "execute_result"
    }
   ],
   "source": [
    "hot_movies=rating_by_title[rating_by_title>1000]\n",
    "hot_movies_rating=mean_ratings[hot_movies.index]\n",
    "hot_movies_rating.sort_values(ascending=False)"
   ]
  },
  {
   "cell_type": "code",
   "execution_count": null,
   "metadata": {
    "collapsed": true
   },
   "outputs": [],
   "source": []
  }
 ],
 "metadata": {
  "kernelspec": {
   "display_name": "Python 3",
   "language": "python",
   "name": "python3"
  },
  "language_info": {
   "codemirror_mode": {
    "name": "ipython",
    "version": 3
   },
   "file_extension": ".py",
   "mimetype": "text/x-python",
   "name": "python",
   "nbconvert_exporter": "python",
   "pygments_lexer": "ipython3",
   "version": "3.6.0"
  }
 },
 "nbformat": 4,
 "nbformat_minor": 2
}
