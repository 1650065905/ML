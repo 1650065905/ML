{
 "cells": [
  {
   "cell_type": "markdown",
   "metadata": {},
   "source": [
    "# 智联招聘"
   ]
  },
  {
   "cell_type": "code",
   "execution_count": null,
   "metadata": {
    "collapsed": true
   },
   "outputs": [],
   "source": [
    "'''\n",
    "需求分析：获取职位\n",
    "入口：http://sou.zhaopin.com/\n",
    "'''"
   ]
  },
  {
   "cell_type": "code",
   "execution_count": 5,
   "metadata": {
    "collapsed": true
   },
   "outputs": [],
   "source": [
    "# -*- coding: GBK-*- #\n",
    "from lxml import etree\n",
    "import requests\n",
    "import time\n",
    "import re"
   ]
  },
  {
   "cell_type": "code",
   "execution_count": 6,
   "metadata": {
    "collapsed": true
   },
   "outputs": [],
   "source": [
    "headers={\n",
    "   'User-Agent': 'Mozilla/5.0 (Windows NT 10.0; Win64; x64) AppleWebKit/537.36 (KHTML, like Gecko) Chrome/64.0.3282.140 Safari/537.36 Edge/17.17134'}\n",
    "zlzp=etree.HTML(requests.get('http://sou.zhaopin.com/',headers=headers).content.decode('utf-8'))\n",
    "job_clc_url=zlzp.xpath('//div[@id=\"search_right_demo\"]/div/div[@class=\"clearfixed\"]/a/@href')"
   ]
  },
  {
   "cell_type": "code",
   "execution_count": 7,
   "metadata": {},
   "outputs": [],
   "source": [
    "# pattern=re.compile('jl=\\d+&')\n",
    "# job_clc_url=['http://sou.zhaopin.com'+pattern.sub('jl=489&',i) for i in job_clc_url]\n",
    "# job_clc_url"
   ]
  },
  {
   "cell_type": "code",
   "execution_count": 4,
   "metadata": {},
   "outputs": [],
   "source": [
    "# #对每一类职位进行遍历\n",
    "# clc=1\n",
    "# for i in job_clc_url:\n",
    "#     if clc==1:\n",
    "#         fw=open('zlzp.txt','w',encoding='utf-8')\n",
    "#     else:\n",
    "#         break\n",
    "        \n",
    "#     r=requests.get(i,headers=headers).content.decode('utf-8')\n",
    "#     job_clc_html=etree.HTML(r)\n",
    "#     page=1\n",
    "#     while True:\n",
    "#         #获取当前页职位的连接\n",
    "#         job_page_url=job_clc_html.xpath(\"//td[@class='zwmc']/div/a[1]/@href\")\n",
    "#         num=1\n",
    "#         for j in job_page_url:\n",
    "#             print(j)\n",
    "#             try:\n",
    "#                 #获取职位信息\n",
    "#                 r1=requests.get(j,headers=headers).content.decode('utf-8')\n",
    "#                 job_html=etree.HTML(r1)\n",
    "#                 job_name=job_html.xpath(\"string(//div[@class='top-fixed-box'][1]/div/div/h1)\")\n",
    "#                 company_name=job_html.xpath(\"string(//div[@class='top-fixed-box'][1]/div/div/h2/a)\")\n",
    "#                 company_fuli=job_html.xpath(\"//div[@class='top-fixed-box'][1]/div/div/div/span\")\n",
    "#                 #print(company_fuli)\n",
    "#                 job_description=job_html.xpath(\"string(//div[@class='terminalpage-left']/ul)\")\n",
    "#                 print(\"第{0}类第{1}页第{2}个职位\".format(clc,page,num))\n",
    "#                 fw.write(\"\\n第{0}类第{1}页第{2}个职位\\n\".format(clc,page,num))\n",
    "#                 fw.write(job_name+\"\\n\")\n",
    "#                 fw.write(company_name)\n",
    "#                 for k in company_fuli:\n",
    "#                     fw.write(k.xpath(\"text()\")[0]+\" \")\n",
    "#                 fw.write(\"\\n\")\n",
    "#                 fw.write(job_description+\"\\n\")\n",
    "#                 time.sleep(0.02)\n",
    "#                 num+=1\n",
    "#             except:\n",
    "#                 print(\"erro\"+\"第{0}类第{1}页第{2}个职位\".format(clc,page,num))\n",
    "#         if job_clc_html.xpath(\"//a[@class='next-page']\")==[]:\n",
    "#             break\n",
    "#         else:\n",
    "#             page+=1\n",
    "#             url_new=job_clc_html.xpath(\"//a[@class='next-page']/@href\")[0]\n",
    "#             r=requests.get(url_new,headers=headers).content.decode('utf-8')\n",
    "#             job_clc_html=etree.HTML(r)\n",
    "#     clc+=1\n",
    "#     fw.close()\n",
    "\n",
    "    \n",
    "    "
   ]
  },
  {
   "cell_type": "code",
   "execution_count": null,
   "metadata": {},
   "outputs": [],
   "source": [
    "#对象的方式\n",
    "#1、获取职位分类的url列表\n",
    "def get_job_cat_list(url,headers):\n",
    "    r=requests.get(url,headers=headers).content.decode('utf-8')\n",
    "    html=etree.HTML(r)\n",
    "    job_cat_url_list=html.xpath('//div[@id=\"search_right_demo\"]/div/div[@class=\"clearfixed\"]/a/@href')\n",
    "    pattern=re.compile('jl=\\d+&')\n",
    "    job_cat_url_list=['http://sou.zhaopin.com'+pattern.sub('jl=489&',i) for i in job_cat_url_list]\n",
    "    return job_cat_url_list\n",
    "\n",
    "#2、获取当前页职位url列表,并返回下一页的url\n",
    "def get_job_list(url,headers):\n",
    "    r=requests.get(url,headers=headers).content.decode('utf-8')\n",
    "    html=etree.HTML(r)\n",
    "    job_page_url=html.xpath(\"//td[@class='zwmc']/div/a[1]/@href\")\n",
    "    url_new=None\n",
    "    if html.xpath(\"//a[@class='next-page']\")==[]:\n",
    "        falg=False\n",
    "    else:\n",
    "        url_new=html.xpath(\"//a[@class='next-page']/@href\")[0]\n",
    "        \n",
    "    return [job_page_url,url_new]\n",
    "\n",
    "#3、获取职位信息\n",
    "def get_job_info(url,headers):\n",
    "    data_dic={}\n",
    "    r=requests.get(url,headers=headers).content.decode('utf-8')\n",
    "    html=etree.HTML(r)\n",
    "    data_dic['job_name']=html.xpath(\"string(//div[@class='top-fixed-box'][1]/div/div/h1)\")\n",
    "    data_dic['company_name']=html.xpath(\"string(//div[@class='top-fixed-box'][1]/div/div/h2/a)\")\n",
    "    data_dic['company_fuli']=html.xpath(\"//div[@class='top-fixed-box'][1]/div/div/div/span/text()\")\n",
    "    data_dic['company_fuli']=\",\".join([str(i) for i in data_dic['company_fuli']])\n",
    "    data_dic['job_description']=job_html.xpath(\"string(//div[@class='terminalpage-left']/ul)\")\n",
    "    return data_dic\n",
    "\n",
    "#数据过滤,过滤掉职位为空或者职位重复的信息\n",
    "def clear_none(data,job_name_list):\n",
    "    if data['job_name']==[] or data['job_name'] in job_name_list:\n",
    "        return False\n",
    "    else:\n",
    "        job_name_list.append(data['job_name'])\n",
    "        return True\n",
    "    \n",
    "#保存数据\n",
    "def save_data(clc_num,data,filePath):\n",
    "    fw=open(filePath,'a+',encoding='utf-8')\n",
    "        \n",
    "    for key in data.keys():\n",
    "        fw.write(data[key]+\"\\n\")\n",
    "        \n",
    "    fw.write(\"\\n\")\n",
    "    fw.close()"
   ]
  },
  {
   "cell_type": "code",
   "execution_count": null,
   "metadata": {},
   "outputs": [],
   "source": [
    "if __name__==\"__main__\":\n",
    "    headers={\n",
    "   'User-Agent': 'Mozilla/5.0 (Windows NT 10.0; Win64; x64) AppleWebKit/537.36 (KHTML, like Gecko) Chrome/64.0.3282.140 Safari/537.36 Edge/17.17134'}\n",
    "    url='http://sou.zhaopin.com/'\n",
    "    job_clc_url=get_job_cat_list(url,headers)#存放所有分类的职位连接\n",
    "    clc=1\n",
    "    job_name_list=[]\n",
    "    for i in job_clc_url:\n",
    "        if clc>1:\n",
    "            break\n",
    "            \n",
    "        page=1\n",
    "        url_page=i#存放当前页的连接\n",
    "        while True:\n",
    "            num=1\n",
    "            job_page_url=get_job_list(url_page,headers)[0]#存放当前页所有职位的连接\n",
    "            #print(job_page_url)\n",
    "            #获取职位信息\n",
    "            for j in job_page_url:\n",
    "                try:\n",
    "                    data=get_job_info(j,headers)\n",
    "                    print(\"第{0}类第{1}页第{2}个职位信息\".format(clc,page,num))\n",
    "\n",
    "                    if clear_none(data,job_name_list)==True:\n",
    "                        save_data(clc,data,'zlzp.txt')\n",
    "                except:\n",
    "                    print(\"第{0}类第{1}页第{2}个职位信息:erro\".format(clc,page,num))\n",
    "                num+=1\n",
    "            \n",
    "            #获取下页的连接\n",
    "            if get_job_list(url_page,headers)[1]==None:\n",
    "                break\n",
    "            else:\n",
    "                page+=1\n",
    "                url_page=get_job_list(i,headers)[1]\n",
    "                \n",
    "            \n",
    "        "
   ]
  },
  {
   "cell_type": "code",
   "execution_count": null,
   "metadata": {
    "collapsed": true
   },
   "outputs": [],
   "source": []
  }
 ],
 "metadata": {
  "kernelspec": {
   "display_name": "Python 3",
   "language": "python",
   "name": "python3"
  },
  "language_info": {
   "codemirror_mode": {
    "name": "ipython",
    "version": 3
   },
   "file_extension": ".py",
   "mimetype": "text/x-python",
   "name": "python",
   "nbconvert_exporter": "python",
   "pygments_lexer": "ipython3",
   "version": "3.6.3"
  }
 },
 "nbformat": 4,
 "nbformat_minor": 2
}
