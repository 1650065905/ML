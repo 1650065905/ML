{
 "cells": [
  {
   "cell_type": "markdown",
   "metadata": {},
   "source": [
    "# lxml库\n",
    "可以方便解析和生成xml文件"
   ]
  },
  {
   "cell_type": "code",
   "execution_count": 2,
   "metadata": {
    "collapsed": true
   },
   "outputs": [],
   "source": [
    "#-*- conding:utf-8 -*-"
   ]
  },
  {
   "cell_type": "code",
   "execution_count": 1,
   "metadata": {
    "collapsed": true
   },
   "outputs": [],
   "source": [
    "from lxml import etree"
   ]
  },
  {
   "cell_type": "code",
   "execution_count": 2,
   "metadata": {},
   "outputs": [
    {
     "name": "stdout",
     "output_type": "stream",
     "text": [
      "<Element html at 0x1f1f10a8f48>\n"
     ]
    }
   ],
   "source": [
    "#解析web.html文件\n",
    "html=etree.HTML(open('web.html',encoding='utf-8').read())\n",
    "print(html)\n",
    "#美化格式\n",
    "result=etree.tostring(html,pretty_print=True,encoding='utf-8').decode('utf-8')\n",
    "#print(result)"
   ]
  },
  {
   "cell_type": "markdown",
   "metadata": {},
   "source": [
    "## 选取节点 \n",
    "xpath 可用来遍历xml文档的元素和属性"
   ]
  },
  {
   "cell_type": "code",
   "execution_count": 3,
   "metadata": {},
   "outputs": [
    {
     "name": "stdout",
     "output_type": "stream",
     "text": [
      "['http://www.baidu.com', 'http://www.baidu.com', 'http://www.baidu.com', 'http://www.baidu.com', 'www.baidu.com', 'www.baidu.com', 'www.baidu.com', 'http://www.baidu.com', 'http://www.baidu.com', 'http://www.baidu.com', 'http://www.baidu.com', 'http://www.baidu.com', 'http://www.baidu.com']\n"
     ]
    }
   ],
   "source": [
    "#1、'/'从根节点开始一级一级往下查找\n",
    "#print(html.xpath('/html/head'))\n",
    "#print(html.xpath('/html/body'))\n",
    "#2、'//'是从全文中查找所有符合条件的标签，不是有序地一级一级查找\n",
    "#print(html.xpath('//div'))\n",
    "#print(html.xpath('//div/a'))\n",
    "#print(len(html.xpath('//div/a')))\n",
    "#3、'..'表示父节点\n",
    "#print(html.xpath('//div/a/..'))\n",
    "#4、'.'表示当前节点\n",
    "#5、选取属性\n",
    "print(html.xpath('//div/a/@href'))"
   ]
  },
  {
   "cell_type": "code",
   "execution_count": 4,
   "metadata": {},
   "outputs": [
    {
     "name": "stdout",
     "output_type": "stream",
     "text": [
      "[<Element span at 0x1f1f10c3d08>]\n",
      "[<Element span at 0x1f1f10c3d48>]\n",
      "[<Element span at 0x1f1f10a8f08>]\n",
      "[<Element span at 0x1f1f10a8f08>, <Element span at 0x1f1f10c3d48>]\n"
     ]
    }
   ],
   "source": [
    "#查找div下面的某个span，下标从1开始\n",
    "print(html.xpath('//div/span[4]'))\n",
    "#根据一些条件定位标签,条件可以进行逻辑运算\n",
    "#print(html.xpath(\"//div[@id='header' or @id='dff']/span[1]\"))\n",
    "print(html.xpath(\"//div[@id='header']/span[1]\"))\n",
    "#book[last()]->最后一个,book[last()-1]->倒数第二个\n",
    "print(html.xpath(\"//div[@id='header']/span[last()]\"))\n",
    "#etree.tostring(html.xpath(\"//div[@id='header']/span[last()-2]\")[0],pretty_print=True,encoding='utf-8').decode('utf-8')\n",
    "#book[position()<3]\n",
    "print(html.xpath(\"//div[@id='header']/span[position()<3]\"))\n",
    "#查找id=menu的div里面的a标签，并且a标签里面的price值为30\n",
    "#print(html.xpath(\"//div[@id='menu']/a[price=30]\"))"
   ]
  },
  {
   "cell_type": "code",
   "execution_count": 15,
   "metadata": {},
   "outputs": [
    {
     "name": "stdout",
     "output_type": "stream",
     "text": [
      "['要闻', '军事', '体育', '科技']\n",
      "要闻\n",
      "\n",
      "        要闻\n",
      "        军事\n",
      "        体育\n",
      "        科技\n",
      "    \n"
     ]
    }
   ],
   "source": [
    "#获取文本\n",
    "#1、text,只有在具体的标签才能用text拿到文本\n",
    "print(html.xpath(\"//div[@id='menu']/a/text()\"))\n",
    "#print(html.xpath(\"//div[@id='menu']/text()\"))#拿不到div下面的a标签的内容\n",
    "#2、string\n",
    "print(html.xpath(\"string(//div[@id='menu']/a)\"))#只能拿到div下面第一个a标签的文本\n",
    "print(html.xpath(\"string(//div[@id='menu'])\"))#可以拿到div下面所有的文本"
   ]
  },
  {
   "cell_type": "code",
   "execution_count": 28,
   "metadata": {},
   "outputs": [
    {
     "name": "stdout",
     "output_type": "stream",
     "text": [
      "\n",
      "        要闻\n",
      "        军事\n",
      "        体育\n",
      "        科技\n",
      "    \n",
      "['one', 'aa', 'http://www.baidu.com']\n"
     ]
    }
   ],
   "source": [
    "#选取未知节点：*\n",
    "print(html.xpath(\"string(//*[@id='menu'])\"))\n",
    "print(html.xpath(\"//*[@class='one'][1]/@*\"))"
   ]
  },
  {
   "cell_type": "markdown",
   "metadata": {
    "collapsed": true
   },
   "source": [
    " "
   ]
  }
 ],
 "metadata": {
  "kernelspec": {
   "display_name": "Python 3",
   "language": "python",
   "name": "python3"
  },
  "language_info": {
   "codemirror_mode": {
    "name": "ipython",
    "version": 3
   },
   "file_extension": ".py",
   "mimetype": "text/x-python",
   "name": "python",
   "nbconvert_exporter": "python",
   "pygments_lexer": "ipython3",
   "version": "3.6.3"
  }
 },
 "nbformat": 4,
 "nbformat_minor": 2
}
