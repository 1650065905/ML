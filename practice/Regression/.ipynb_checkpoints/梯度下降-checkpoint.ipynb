{
 "cells": [
  {
   "cell_type": "code",
   "execution_count": 6,
   "metadata": {
    "collapsed": true
   },
   "outputs": [],
   "source": [
    "import numpy as np\n",
    "import pandas as pd\n",
    "import matplotlib as mpl\n",
    "from sklearn.preprocessing import PolynomialFeatures,StandardScaler\n",
    "from sklearn.linear_model import LinearRegression\n",
    "from sklearn.model_selection import train_test_split"
   ]
  },
  {
   "cell_type": "code",
   "execution_count": 2,
   "metadata": {
    "collapsed": true
   },
   "outputs": [],
   "source": [
    "## 设置字符集，防止中文乱码\n",
    "mpl.rcParams['font.sans-serif']=[u'simHei']\n",
    "mpl.rcParams['axes.unicode_minus']=False"
   ]
  },
  {
   "cell_type": "code",
   "execution_count": 45,
   "metadata": {},
   "outputs": [],
   "source": [
    "#定义一个简单的数据，使得数据符合y=x1+x2\n",
    "df = pd.DataFrame({'x1':[1,2,3,4,5,6],'x2':[1,2,1,2,1,2],'y':[2,4,4,6,6,8],'y1':[4,8,8,12,12,16]})\n",
    "x = df[['x1','x2']].values.reshape(-1,2)\n",
    "y = df['y'].values.reshape([-1,1])\n",
    "y1 = df['y1'].values.reshape([-1,1])\n",
    "#print(x)\n",
    "#print(y)"
   ]
  },
  {
   "cell_type": "code",
   "execution_count": 4,
   "metadata": {},
   "outputs": [
    {
     "data": {
      "text/plain": [
       "matrix([[ 2.],\n",
       "        [ 2.]])"
      ]
     },
     "execution_count": 4,
     "metadata": {},
     "output_type": "execute_result"
    }
   ],
   "source": [
    "#使用直接计算法\n",
    "import math\n",
    "np.dot(np.mat(x.T.dot(x)).I,x.T).dot(y1)"
   ]
  },
  {
   "cell_type": "code",
   "execution_count": 16,
   "metadata": {},
   "outputs": [
    {
     "name": "stdout",
     "output_type": "stream",
     "text": [
      "1.0\n",
      "[[ 1.  1.]]\n",
      "[  8.88178420e-16]\n"
     ]
    }
   ],
   "source": [
    "#使用LinearRegression方法\n",
    "lr=LinearRegression()\n",
    "lr.fit(x,y)\n",
    "print(lr.score(x,y))\n",
    "print(lr.coef_)\n",
    "print(lr.intercept_)"
   ]
  },
  {
   "cell_type": "code",
   "execution_count": 84,
   "metadata": {},
   "outputs": [],
   "source": [
    "#使用梯度下降法\n",
    "def gradient_descent(X,Y,theta,alpha):\n",
    "    #print(X.dot(theta))\n",
    "    #print(Y)\n",
    "    theta=theta-alpha*X.T.dot(X.dot(theta)-Y)\n",
    "    loss=0.5*((X.dot(theta)-Y)**2).sum()\n",
    "    return theta,loss\n",
    "    "
   ]
  },
  {
   "cell_type": "code",
   "execution_count": 71,
   "metadata": {},
   "outputs": [
    {
     "name": "stdout",
     "output_type": "stream",
     "text": [
      "[[ 0.08243137]\n",
      " [ 0.99673148]\n",
      " [ 0.95651534]]\n",
      "0.00182455127571\n"
     ]
    }
   ],
   "source": [
    "#批量梯度下降\n",
    "X=x\n",
    "X=np.hstack((common_item,X))\n",
    "Y=y\n",
    "m,n=X.shape\n",
    "#print(m,n)\n",
    "alpha=0.01\n",
    "theta=np.zeros((n,1)).reshape(-1,1).astype('f')\n",
    "the=1e-06\n",
    "max_iter=400\n",
    "common_item=np.ones((m,1)).reshape(-1,1)\n",
    "for t in range(max_iter):\n",
    "    #print(X)\n",
    "    #print(Y)\n",
    "    theta,loss=gradient_descent(X,Y,theta,alpha)\n",
    "    if loss<the:\n",
    "        break\n",
    "print(theta)\n",
    "print(loss)"
   ]
  },
  {
   "cell_type": "code",
   "execution_count": 29,
   "metadata": {},
   "outputs": [],
   "source": [
    "np.hstack?"
   ]
  },
  {
   "cell_type": "code",
   "execution_count": 90,
   "metadata": {},
   "outputs": [
    {
     "name": "stdout",
     "output_type": "stream",
     "text": [
      "6 3\n",
      "[[ 0.32696342]\n",
      " [ 1.06927269]\n",
      " [ 0.60248703]]\n",
      "8.15183439391e-07\n"
     ]
    }
   ],
   "source": [
    "#随机梯度下降\n",
    "X=x\n",
    "X=np.hstack((common_item,X))\n",
    "Y=y\n",
    "m,n=X.shape\n",
    "print(m,n)\n",
    "alpha=0.01\n",
    "theta=np.zeros((n,1)).reshape(-1,1).astype('f')\n",
    "the=1e-06\n",
    "max_iter=400\n",
    "common_item=np.ones((m,1)).reshape(-1,1)\n",
    "for t in range(max_iter):\n",
    "    for i in range(m):\n",
    "        X1=X[i].reshape(1,-1)\n",
    "        Y1=Y[i]\n",
    "        theta,loss=gradient_descent(X1,Y1,theta,alpha)\n",
    "        if loss<the:\n",
    "            break\n",
    "    if loss<the:\n",
    "        break\n",
    "print(theta)\n",
    "print(loss)"
   ]
  },
  {
   "cell_type": "code",
   "execution_count": 98,
   "metadata": {},
   "outputs": [
    {
     "name": "stdout",
     "output_type": "stream",
     "text": [
      "6 3\n",
      "[[ 0.00350904]\n",
      " [ 0.99988504]\n",
      " [ 0.99812199]]\n",
      "9.96555775854e-07\n"
     ]
    }
   ],
   "source": [
    "#少批量梯度下降\n",
    "X=x\n",
    "X=np.hstack((common_item,X))\n",
    "Y=y\n",
    "m,n=X.shape\n",
    "print(m,n)\n",
    "alpha=0.01\n",
    "theta=np.zeros((n,1)).reshape(-1,1).astype('f')\n",
    "the=1e-06\n",
    "max_iter=4000\n",
    "common_item=np.ones((m,1)).reshape(-1,1)\n",
    "d=2\n",
    "for t in range(max_iter):\n",
    "    for i in range(int(np.floor(m/2))):\n",
    "        X1=X[i*d:d*(i+1)]\n",
    "        Y1=Y[i*d:d*(i+1)]\n",
    "        theta,loss=gradient_descent(X1,Y1,theta,alpha)\n",
    "        if loss<the:\n",
    "            break\n",
    "    if loss<the:\n",
    "        break\n",
    "print(theta)\n",
    "print(loss)"
   ]
  },
  {
   "cell_type": "markdown",
   "metadata": {},
   "source": [
    "# 下面的程序有问题"
   ]
  },
  {
   "cell_type": "code",
   "execution_count": 139,
   "metadata": {
    "collapsed": true
   },
   "outputs": [],
   "source": [
    "#数据校验\n",
    "#X是二维数组，Y是二维数组\n",
    "def validata(X, Y):\n",
    "    if X.shape[0]!=Y.shape[0]:\n",
    "        return False\n",
    "    else:\n",
    "        return True\n",
    "\n",
    "#批量梯度下降,\n",
    "#返回新的theta值\n",
    "def BGD(X,Y,theta,alpha):\n",
    "    #print(\"theta:\"+str(theta))\n",
    "    #print(np.dot(X.T,X.dot(theta)-Y))\n",
    "    theta=theta-alpha*np.dot(X.T,X.dot(theta)-Y)\n",
    "    return theta\n",
    "\n",
    "#随机梯度下降\n",
    "def SGD(X,Y,theta,alpha):\n",
    "    pass\n",
    "\n",
    "#小批量梯度下降\n",
    "def MBGD(X,Y,theta,alpha,num):\n",
    "    pass\n"
   ]
  },
  {
   "cell_type": "code",
   "execution_count": 3,
   "metadata": {
    "collapsed": true
   },
   "outputs": [],
   "source": [
    "#fit函数\n",
    "def fittt(X, Y, alphas, threshold=1e-6, maxIter=20, addConstantItem=True, theta=None):\n",
    "    X_row_len=X.shape[0]\n",
    "    ConstantItem=np.ones((X_row_len,1))\n",
    "    if addConstantItem:#加上常数项\n",
    "        X=np.hstack((X,ConstantItem))\n",
    "\n",
    "    if np.logical_not(validata(X, Y)):\n",
    "        print(\"erro params!\")\n",
    "        return\n",
    "\n",
    "    X_col_len = X.shape[1]\n",
    "    J=[np.NAN for i in alphas]\n",
    "    for index,a in enumerate(alphas):\n",
    "        ## 对当前的alpha进行梯度算法求解\n",
    "        theta=np.zeros((X_col_len,1))#初始化theta\n",
    "        J[index]=((X.dot(theta)-Y)**2).sum()\n",
    "        for times in range(maxIter):\n",
    "            #print(theta)\n",
    "            print(J[index])\n",
    "            theta=BGD(X,Y,theta,a)\n",
    "            J[index]=((X.dot(theta)-Y)**2).sum()\n",
    "            if J[index]<=threshold:\n",
    "                break\n",
    "    #print(J)"
   ]
  },
  {
   "cell_type": "code",
   "execution_count": 217,
   "metadata": {},
   "outputs": [
    {
     "name": "stdout",
     "output_type": "stream",
     "text": [
      "[[ 0.         -1.34164079 -1.14458618 -0.98184354]\n",
      " [ 0.         -0.4472136  -0.61631563 -0.69547251]\n",
      " [ 0.          0.4472136   0.26413527  0.08182029]\n",
      " [ 0.          1.34164079  1.49676654  1.59549575]]\n",
      "[[-6]\n",
      " [ 3]\n",
      " [26]\n",
      " [69]]\n"
     ]
    }
   ],
   "source": [
    "## 创建模拟数据\n",
    "np.random.seed(0)\n",
    "N = 10\n",
    "X = np.arange(1,5)\n",
    "#X = np.linspace(0, 6, N) + np.random.randn(N)\n",
    "Y = X**3 + X**2 -X - 7\n",
    "X = X.reshape(-1, 1)\n",
    "Y = Y.reshape(-1, 1)\n",
    "#poly=PolynomialFeatures(degree=3)\n",
    "#X=poly.fit_transform(X)\n",
    "ss=StandardScaler()\n",
    "#X=ss.fit_transform(X)\n",
    "X1=np.array([[1.,1.,1.,1.],\n",
    " [1.,2.,4.,8.],\n",
    " [1.,3.,9.,27.],\n",
    " [1.,4.,16.,64.]])\n",
    "X1=ss.fit_transform(X1)\n",
    "#X1=X1[:,[1]]\n",
    "Y1=np.array([[-6],\n",
    " [ 3],\n",
    " [26],\n",
    " [69]])\n",
    "print(X1)\n",
    "print(Y1)"
   ]
  },
  {
   "cell_type": "code",
   "execution_count": 5,
   "metadata": {},
   "outputs": [
    {
     "ename": "NameError",
     "evalue": "name 'X1' is not defined",
     "output_type": "error",
     "traceback": [
      "\u001b[1;31m---------------------------------------------------------------------------\u001b[0m",
      "\u001b[1;31mNameError\u001b[0m                                 Traceback (most recent call last)",
      "\u001b[1;32m<ipython-input-5-0d0a9a28efee>\u001b[0m in \u001b[0;36m<module>\u001b[1;34m()\u001b[0m\n\u001b[1;32m----> 1\u001b[1;33m \u001b[0mfittt\u001b[0m\u001b[1;33m(\u001b[0m\u001b[0mX1\u001b[0m\u001b[1;33m,\u001b[0m \u001b[0mY1\u001b[0m\u001b[1;33m,\u001b[0m \u001b[1;33m[\u001b[0m\u001b[1;36m0.01\u001b[0m\u001b[1;33m]\u001b[0m\u001b[1;33m,\u001b[0m \u001b[0mthreshold\u001b[0m\u001b[1;33m=\u001b[0m\u001b[1;36m1e-6\u001b[0m\u001b[1;33m,\u001b[0m \u001b[0mmaxIter\u001b[0m\u001b[1;33m=\u001b[0m\u001b[1;36m20\u001b[0m\u001b[1;33m,\u001b[0m \u001b[0maddConstantItem\u001b[0m\u001b[1;33m=\u001b[0m\u001b[1;32mFalse\u001b[0m\u001b[1;33m,\u001b[0m \u001b[0mtheta\u001b[0m\u001b[1;33m=\u001b[0m\u001b[1;32mNone\u001b[0m\u001b[1;33m)\u001b[0m\u001b[1;33m\u001b[0m\u001b[0m\n\u001b[0m",
      "\u001b[1;31mNameError\u001b[0m: name 'X1' is not defined"
     ]
    }
   ],
   "source": [
    "fittt(X1, Y1, [0.01], threshold=1e-6, maxIter=20, addConstantItem=False, theta=None)"
   ]
  },
  {
   "cell_type": "code",
   "execution_count": 147,
   "metadata": {
    "collapsed": true
   },
   "outputs": [],
   "source": [
    "PolynomialFeatures?"
   ]
  },
  {
   "cell_type": "code",
   "execution_count": 6,
   "metadata": {},
   "outputs": [
    {
     "ename": "SyntaxError",
     "evalue": "invalid syntax (<ipython-input-6-7997a16ff19f>, line 1)",
     "output_type": "error",
     "traceback": [
      "\u001b[1;36m  File \u001b[1;32m\"<ipython-input-6-7997a16ff19f>\"\u001b[1;36m, line \u001b[1;32m1\u001b[0m\n\u001b[1;33m    for\u001b[0m\n\u001b[1;37m        ^\u001b[0m\n\u001b[1;31mSyntaxError\u001b[0m\u001b[1;31m:\u001b[0m invalid syntax\n"
     ]
    }
   ],
   "source": [
    "for \n",
    "theta=theta-alpha*np.dot(X.T,X.dot(theta)-Y)"
   ]
  },
  {
   "cell_type": "code",
   "execution_count": 7,
   "metadata": {},
   "outputs": [
    {
     "name": "stdout",
     "output_type": "stream",
     "text": [
      "[[-0.1]\n",
      " [-0.1]\n",
      " [ 0.1]\n",
      " [ 0.2]]\n"
     ]
    },
    {
     "ename": "NameError",
     "evalue": "name 'X1' is not defined",
     "output_type": "error",
     "traceback": [
      "\u001b[1;31m---------------------------------------------------------------------------\u001b[0m",
      "\u001b[1;31mNameError\u001b[0m                                 Traceback (most recent call last)",
      "\u001b[1;32m<ipython-input-7-0c54ca49bf15>\u001b[0m in \u001b[0;36m<module>\u001b[1;34m()\u001b[0m\n\u001b[0;32m      6\u001b[0m \u001b[1;32mfor\u001b[0m \u001b[0mtimes\u001b[0m \u001b[1;32min\u001b[0m \u001b[0mrange\u001b[0m\u001b[1;33m(\u001b[0m\u001b[0mmaxIter\u001b[0m\u001b[1;33m)\u001b[0m\u001b[1;33m:\u001b[0m\u001b[1;33m\u001b[0m\u001b[0m\n\u001b[0;32m      7\u001b[0m     \u001b[0mprint\u001b[0m\u001b[1;33m(\u001b[0m\u001b[0mtheta\u001b[0m\u001b[1;33m)\u001b[0m\u001b[1;33m\u001b[0m\u001b[0m\n\u001b[1;32m----> 8\u001b[1;33m     \u001b[0mprint\u001b[0m\u001b[1;33m(\u001b[0m\u001b[0mX1\u001b[0m\u001b[1;33m.\u001b[0m\u001b[0mT\u001b[0m\u001b[1;33m.\u001b[0m\u001b[0mdot\u001b[0m\u001b[1;33m(\u001b[0m\u001b[0mY1\u001b[0m\u001b[1;33m-\u001b[0m\u001b[0mX1\u001b[0m\u001b[1;33m.\u001b[0m\u001b[0mdot\u001b[0m\u001b[1;33m(\u001b[0m\u001b[0mtheta\u001b[0m\u001b[1;33m)\u001b[0m\u001b[1;33m)\u001b[0m\u001b[1;33m)\u001b[0m\u001b[1;33m\u001b[0m\u001b[0m\n\u001b[0m\u001b[0;32m      9\u001b[0m     \u001b[0mtheta\u001b[0m \u001b[1;33m=\u001b[0m \u001b[0mtheta\u001b[0m \u001b[1;33m-\u001b[0m \u001b[0malpha\u001b[0m \u001b[1;33m*\u001b[0m \u001b[0mX1\u001b[0m\u001b[1;33m.\u001b[0m\u001b[0mT\u001b[0m\u001b[1;33m.\u001b[0m\u001b[0mdot\u001b[0m\u001b[1;33m(\u001b[0m\u001b[0mY1\u001b[0m\u001b[1;33m-\u001b[0m\u001b[0mX1\u001b[0m\u001b[1;33m.\u001b[0m\u001b[0mdot\u001b[0m\u001b[1;33m(\u001b[0m\u001b[0mtheta\u001b[0m\u001b[1;33m)\u001b[0m\u001b[1;33m)\u001b[0m\u001b[1;33m\u001b[0m\u001b[0m\n\u001b[0;32m     10\u001b[0m     \u001b[0mJ\u001b[0m \u001b[1;33m=\u001b[0m \u001b[0mnp\u001b[0m\u001b[1;33m.\u001b[0m\u001b[0mpower\u001b[0m\u001b[1;33m(\u001b[0m\u001b[0mY1\u001b[0m\u001b[1;33m-\u001b[0m\u001b[0mX1\u001b[0m\u001b[1;33m.\u001b[0m\u001b[0mdot\u001b[0m\u001b[1;33m(\u001b[0m\u001b[0mtheta\u001b[0m\u001b[1;33m)\u001b[0m\u001b[1;33m,\u001b[0m\u001b[1;36m2\u001b[0m\u001b[1;33m)\u001b[0m\u001b[1;33m.\u001b[0m\u001b[0msum\u001b[0m\u001b[1;33m(\u001b[0m\u001b[1;33m)\u001b[0m\u001b[1;33m\u001b[0m\u001b[0m\n",
      "\u001b[1;31mNameError\u001b[0m: name 'X1' is not defined"
     ]
    }
   ],
   "source": [
    "maxIter=100\n",
    "alpha = 0.0001\n",
    "theta=np.array([-0.1,-0.1,0.1,0.2]).reshape(-1,1)\n",
    "#print(theta)\n",
    "threshold = 1e-3\n",
    "for times in range(maxIter):\n",
    "    print(theta)\n",
    "    print(X1.T.dot(Y1-X1.dot(theta)))\n",
    "    theta = theta - alpha * X1.T.dot(Y1-X1.dot(theta))\n",
    "    J = np.power(Y1-X1.dot(theta),2).sum()\n",
    "    print(J)\n",
    "    if J<=threshold:\n",
    "        break"
   ]
  },
  {
   "cell_type": "code",
   "execution_count": null,
   "metadata": {
    "collapsed": true
   },
   "outputs": [],
   "source": []
  },
  {
   "cell_type": "code",
   "execution_count": null,
   "metadata": {
    "collapsed": true
   },
   "outputs": [],
   "source": []
  }
 ],
 "metadata": {
  "kernelspec": {
   "display_name": "Python 3",
   "language": "python",
   "name": "python3"
  },
  "language_info": {
   "codemirror_mode": {
    "name": "ipython",
    "version": 3
   },
   "file_extension": ".py",
   "mimetype": "text/x-python",
   "name": "python",
   "nbconvert_exporter": "python",
   "pygments_lexer": "ipython3",
   "version": "3.6.3"
  }
 },
 "nbformat": 4,
 "nbformat_minor": 2
}
