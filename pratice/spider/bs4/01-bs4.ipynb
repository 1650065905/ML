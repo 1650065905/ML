{
 "cells": [
  {
   "cell_type": "markdown",
   "metadata": {},
   "source": [
    "# BeautifulSoup"
   ]
  },
  {
   "cell_type": "code",
   "execution_count": 1,
   "metadata": {
    "collapsed": true
   },
   "outputs": [],
   "source": [
    "from bs4 import BeautifulSoup\n",
    "import requests\n",
    "import re"
   ]
  },
  {
   "cell_type": "markdown",
   "metadata": {},
   "source": [
    "## BeautifulSoup 解析html或xml文件 "
   ]
  },
  {
   "cell_type": "code",
   "execution_count": 13,
   "metadata": {},
   "outputs": [],
   "source": [
    "re_get=requests.get('http://www.baidu.com').content.decode('utf-8')\n",
    "soup_baidu=BeautifulSoup(re_get,'html.parser')#html为python默认的解释器\n",
    "#另外三种解释器：lxml，xml，html5lib\n",
    "html=soup_baidu.prettify()#美化格式\n",
    "#print(html)"
   ]
  },
  {
   "cell_type": "code",
   "execution_count": 10,
   "metadata": {},
   "outputs": [],
   "source": [
    "# re_get=requests.get('http://www.baidu.com')\n",
    "# print(re_get.status_code)#\n",
    "# print(re_get.headers)\n",
    "# print(re_get.url)\n",
    "# print(re_get.cookies)"
   ]
  },
  {
   "cell_type": "code",
   "execution_count": 28,
   "metadata": {
    "collapsed": true
   },
   "outputs": [],
   "source": [
    "#打开本地文件\n",
    "soup_web=BeautifulSoup(open('web.html','r',encoding='utf-8').read(),'html.parser')\n",
    "web=soup_web.prettify()\n",
    "#print(web)"
   ]
  },
  {
   "cell_type": "markdown",
   "metadata": {},
   "source": [
    "### 节点的遍历\n",
    "#### 1、四大对象"
   ]
  },
  {
   "cell_type": "code",
   "execution_count": 67,
   "metadata": {
    "collapsed": true
   },
   "outputs": [],
   "source": [
    "#1、标签Tag\n",
    "#标签具有属性name、attrs\n",
    "#print(soup_baidu.div.prettify())#输出第一个div"
   ]
  },
  {
   "cell_type": "code",
   "execution_count": 35,
   "metadata": {},
   "outputs": [
    {
     "name": "stdout",
     "output_type": "stream",
     "text": [
      "div\n",
      "<a class=\"mnav\" href=\"http://news.baidu.com\" name=\"tj_trnews\">新闻</a>\n",
      "a\n",
      "{'href': 'http://news.baidu.com', 'name': 'tj_trnews', 'class': ['mnav']}\n",
      "<class 'dict'>\n",
      "http://news.baidu.com\n"
     ]
    }
   ],
   "source": [
    "print(soup_baidu.div.name)\n",
    "print(soup_baidu.div.a)\n",
    "print(soup_baidu.div.a.name)\n",
    "print(soup_baidu.div.a.attrs)#查看标签的属性\n",
    "print(type(soup_baidu.div.a.attrs))\n",
    "print(soup_baidu.div.a.attrs['href'])#查看某一个属性"
   ]
  },
  {
   "cell_type": "code",
   "execution_count": 57,
   "metadata": {
    "collapsed": true
   },
   "outputs": [],
   "source": [
    "#2、NavigableString\n",
    "# 通过string获取标签里的内容，类型为navigablestring\n",
    "# 通过strings获取多个内容，但是需要遍历获取"
   ]
  },
  {
   "cell_type": "code",
   "execution_count": 21,
   "metadata": {},
   "outputs": [],
   "source": [
    "#print(soup_baidu.div.a.string)\n",
    "#print(soup_baidu.div.prettify())\n",
    "# for i in soup_baidu.div.strings:\n",
    "#     print(i)"
   ]
  },
  {
   "cell_type": "code",
   "execution_count": 35,
   "metadata": {},
   "outputs": [
    {
     "name": "stdout",
     "output_type": "stream",
     "text": [
      "<class 'bs4.BeautifulSoup'>\n"
     ]
    }
   ],
   "source": [
    "#3、BeautifulSoup\n",
    "print(type(soup_baidu))"
   ]
  },
  {
   "cell_type": "code",
   "execution_count": 36,
   "metadata": {
    "collapsed": true
   },
   "outputs": [],
   "source": [
    "#4、comment"
   ]
  },
  {
   "cell_type": "markdown",
   "metadata": {},
   "source": [
    "#### 2、 遍历文档树"
   ]
  },
  {
   "cell_type": "code",
   "execution_count": 24,
   "metadata": {},
   "outputs": [
    {
     "name": "stdout",
     "output_type": "stream",
     "text": [
      "['\\n', <span>logo  <a href=\"\">dsf</a></span>, <input type=\"text\"/>, <input type=\"button\" value=\"搜索\"/>, <span>1</span>, <span>2</span>, <span>3</span>, '\\n']\n"
     ]
    }
   ],
   "source": [
    "#1、直接子节点,、\n",
    "#用contents遍历子节点\n",
    "print(soup_web.div.contents)\n",
    "#children返回子节点对象的迭代器\n",
    "# for i in soup_web.div.children:\n",
    "#     print(i)\n",
    "#descendants,递归读取子节点,即所有的子孙\n",
    "# for i in soup_web.div.descendants:\n",
    "#     print(i)\n",
    "#获取文本\n",
    "#通过string获取文档，只有当没有子节点的时候，才能通过string拿到文本，否则返回none\n",
    "#print(soup_web.div.span.a.string)\n",
    "#print(soup_web.div.span)\n",
    "#通过text获取所有文档，如果有子节点也能拿到\n",
    "#print(soup_web.div.span.text)"
   ]
  },
  {
   "cell_type": "code",
   "execution_count": 96,
   "metadata": {
    "collapsed": true
   },
   "outputs": [],
   "source": [
    "#2、父节点\n",
    "#parent,返回上一次节点\n",
    "#print(soup_web.div.span.parent.parent)\n",
    "#parents,返回父节点迭代器，每迭代一次，层次要往上一层\n",
    "# for i in soup_web.div.span.a.parents:\n",
    "#     print(i)"
   ]
  },
  {
   "cell_type": "code",
   "execution_count": 112,
   "metadata": {},
   "outputs": [
    {
     "name": "stdout",
     "output_type": "stream",
     "text": [
      "<a href=\"http://www.baidu.com\">科技</a>\n",
      "\n",
      "\n",
      "<div class=\"clear\"></div>\n"
     ]
    }
   ],
   "source": [
    "#3、兄弟节点:next_sibling,previous_sibling\n",
    "#用next_sibling时，换行符也作为一个兄弟节点\n",
    "#print(soup_web.div.next_sibling.next_sibling.next_sibling.next_sibling)\n",
    "# print(soup_web.div.next_sibling.next_sibling.next_sibling.next_sibling.a)#拿第一个a标签\n",
    "# print(soup_web.div.next_sibling.next_sibling.next_sibling.next_sibling.a.next_sibling.next_sibling)\n",
    "# print(soup_web.div.next_sibling.next_sibling.next_sibling.next_sibling.contents[5])\n",
    "n=0\n",
    "for i in soup_web.div.next_sibling.next_sibling.next_sibling.next_sibling.children:\n",
    "    if i!='\\n':\n",
    "        n+=1\n",
    "    if n==4:\n",
    "        print(i)\n",
    "#往上找兄弟\n",
    "a=soup_web.div.next_sibling.next_sibling.next_sibling.next_sibling\n",
    "print(a.previous_sibling.previous_sibling)"
   ]
  },
  {
   "cell_type": "markdown",
   "metadata": {},
   "source": [
    "#### 3、搜索文档书 "
   ]
  },
  {
   "cell_type": "code",
   "execution_count": 26,
   "metadata": {},
   "outputs": [
    {
     "name": "stdout",
     "output_type": "stream",
     "text": [
      "[<a class=\"one\" href=\"http://www.baidu.com\" name=\"aa\">eeeee</a>, <a class=\"one\" href=\"http://www.baidu.com\">fffffffffff</a>]\n",
      "[<a href=\"www.baidu.com\" id=\"pw\">lalala</a>, <a href=\"www.baidu.com\">aaaaaa</a>, <a href=\"www.baidu.com\">bbbbbb</a>]\n",
      "[<a href=\"www.baidu.com\" id=\"pw\">lalala</a>, <a href=\"www.baidu.com\">aaaaaa</a>, <a href=\"www.baidu.com\">bbbbbb</a>]\n"
     ]
    }
   ],
   "source": [
    "#find_all(self, name=None, attrs={}, recursive=True, text=None, limit=None, **kwargs)\n",
    "#find_all是查找所有\n",
    "#1、通过标签名或属性进行查找节点。name:标签名，attrs:属性\n",
    "#print(soup_web.find_all('a'))#将整个对象中的a标签获取,以列表形式返回\n",
    "#print(soup_web.find_all('a')[1])\n",
    "#print(soup_web.find_all(['a','span']))\n",
    "print(soup_web.find_all(name='a',attrs={'class':'one'}))\n",
    "#2、正则搜索\n",
    "print(soup_web.find_all(href=re.compile('^www.*')))\n",
    "print(soup_web.find_all(attrs={'href':re.compile('^www.*')}))"
   ]
  },
  {
   "cell_type": "code",
   "execution_count": 34,
   "metadata": {
    "collapsed": true
   },
   "outputs": [],
   "source": [
    "BeautifulSoup.find_all?"
   ]
  },
  {
   "cell_type": "code",
   "execution_count": 33,
   "metadata": {},
   "outputs": [
    {
     "name": "stdout",
     "output_type": "stream",
     "text": [
      "[<div id=\"menu\">\n",
      "<a href=\"http://www.baidu.com\">要闻</a>\n",
      "<a href=\"http://www.baidu.com\">军事</a>\n",
      "<a href=\"http://www.baidu.com\">体育</a>\n",
      "<a href=\"http://www.baidu.com\">科技</a>\n",
      "</div>]\n"
     ]
    }
   ],
   "source": [
    "#3、通过id进行搜索,标签的id是唯一标识\n",
    "print(soup_web.find_all(name='div',id='menu'))"
   ]
  },
  {
   "cell_type": "code",
   "execution_count": 134,
   "metadata": {},
   "outputs": [
    {
     "name": "stdout",
     "output_type": "stream",
     "text": [
      "[<a href=\"http://www.baidu.com\">军事</a>]\n"
     ]
    }
   ],
   "source": [
    "#4、text,查找文本\n",
    "print(soup_web.find_all(name='a',text='军事'))"
   ]
  },
  {
   "cell_type": "code",
   "execution_count": 136,
   "metadata": {},
   "outputs": [
    {
     "name": "stdout",
     "output_type": "stream",
     "text": [
      "[<a href=\"\">dsf</a>, <a href=\"http://www.baidu.com\">要闻</a>, <a href=\"http://www.baidu.com\">军事</a>]\n"
     ]
    }
   ],
   "source": [
    "#5、限制查找个数\n",
    "print(soup_web.find_all('a',limit=3))"
   ]
  },
  {
   "cell_type": "code",
   "execution_count": 144,
   "metadata": {},
   "outputs": [
    {
     "name": "stdout",
     "output_type": "stream",
     "text": [
      "http://www.baidu.com\n",
      "要闻\n"
     ]
    }
   ],
   "source": [
    "#find(name=None, attrs={}, recursive=True, text=None, **kwargs)\n",
    "#find是找一个标签\n",
    "print(soup_web.find(id='menu').find_all('a')[0]['href'])\n",
    "print(soup_web.find(id='menu').find_all('a')[0].text)"
   ]
  },
  {
   "cell_type": "code",
   "execution_count": 36,
   "metadata": {
    "collapsed": true
   },
   "outputs": [],
   "source": [
    "soup_web.find?"
   ]
  },
  {
   "cell_type": "markdown",
   "metadata": {
    "collapsed": true
   },
   "source": [
    "### CSS选择器 \n",
    "select"
   ]
  },
  {
   "cell_type": "code",
   "execution_count": 46,
   "metadata": {},
   "outputs": [
    {
     "name": "stdout",
     "output_type": "stream",
     "text": [
      "[<a href=\"\">dsf</a>, <a href=\"http://www.baidu.com\">要闻</a>, <a href=\"http://www.baidu.com\">军事</a>, <a href=\"http://www.baidu.com\">体育</a>, <a href=\"http://www.baidu.com\">科技</a>, <a href=\"www.baidu.com\" id=\"pw\">lalala</a>, <a href=\"www.baidu.com\">aaaaaa</a>, <a href=\"www.baidu.com\">bbbbbb</a>, <a href=\"http://www.baidu.com\">ccccccc</a>, <a href=\"http://www.baidu.com\">ddddd</a>, <a class=\"one\" href=\"http://www.baidu.com\" name=\"aa\">eeeee</a>, <a class=\"one\" href=\"http://www.baidu.com\">fffffffffff</a>, <a href=\"http://www.baidu.com\">gggggggggg</a>, <a href=\"http://www.baidu.com\">hhhhhhhhhhh</a>]\n",
      "[<a class=\"one\" href=\"http://www.baidu.com\" name=\"aa\">eeeee</a>]\n",
      "[<a href=\"http://www.baidu.com\">要闻</a>, <a href=\"http://www.baidu.com\">军事</a>, <a href=\"http://www.baidu.com\">体育</a>, <a href=\"http://www.baidu.com\">科技</a>]\n",
      "http://www.baidu.com\n",
      "None\n"
     ]
    }
   ],
   "source": [
    "#1、通过标签名查找所有满足条件的标签\n",
    "print(soup_web.select('a'))\n",
    "#2、通过类名查找\n",
    "#print(soup_web.select('.left'))#查找类名为left的标签,class对应'.'，id对应'#'\n",
    "#3、通过id查找\n",
    "#print(soup_web.select('#menu'))\n",
    "#4、通过属性查找\n",
    "print(soup_web.select(\"a[name='aa']\"))\n",
    "#5、组合查找\n",
    "print(soup_web.select('#menu a'))#空格表示里面的标签，id为menu标签里面的a标签\n",
    "#获取文本或属性\n",
    "print(soup_web.select('#menu a')[0]['href'])\n",
    "print(soup_web.select('#menu')[0].string)\n",
    "#其他应用查看工具文档"
   ]
  },
  {
   "cell_type": "code",
   "execution_count": 5,
   "metadata": {
    "collapsed": true
   },
   "outputs": [],
   "source": [
    "soup_web.select?"
   ]
  },
  {
   "cell_type": "code",
   "execution_count": 39,
   "metadata": {},
   "outputs": [
    {
     "data": {
      "text/plain": [
       "re.compile(r'^www.*', re.UNICODE)"
      ]
     },
     "execution_count": 39,
     "metadata": {},
     "output_type": "execute_result"
    }
   ],
   "source": [
    "t=re.compile('^www.*')\n",
    "t"
   ]
  },
  {
   "cell_type": "code",
   "execution_count": null,
   "metadata": {
    "collapsed": true
   },
   "outputs": [],
   "source": []
  }
 ],
 "metadata": {
  "kernelspec": {
   "display_name": "Python 3",
   "language": "python",
   "name": "python3"
  },
  "language_info": {
   "codemirror_mode": {
    "name": "ipython",
    "version": 3
   },
   "file_extension": ".py",
   "mimetype": "text/x-python",
   "name": "python",
   "nbconvert_exporter": "python",
   "pygments_lexer": "ipython3",
   "version": "3.6.3"
  }
 },
 "nbformat": 4,
 "nbformat_minor": 2
}
