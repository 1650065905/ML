{
 "cells": [
  {
   "cell_type": "markdown",
   "metadata": {},
   "source": [
    "# 需求分析\n",
    "        获取python100例当中的所有的例子，标题，题目，程序分析，源代码\n",
    "    源码分析\n",
    "        1.入口：http://www.runoob.com/python/python-100-examples.html\n",
    "        2.div ID = content  获取所有的a的href链接\n",
    "        3.请求所有的链接\n",
    "        \n",
    "    代码实现  "
   ]
  },
  {
   "cell_type": "code",
   "execution_count": 78,
   "metadata": {
    "collapsed": true
   },
   "outputs": [],
   "source": [
    "from bs4 import BeautifulSoup\n",
    "import requests\n",
    "import time\n",
    "import pandas as pd\n",
    "import os"
   ]
  },
  {
   "cell_type": "code",
   "execution_count": 84,
   "metadata": {},
   "outputs": [
    {
     "name": "stdout",
     "output_type": "stream",
     "text": [
      "100\n"
     ]
    }
   ],
   "source": [
    "url = 'http://www.runoob.com/python/python-100-examples.html'\n",
    "headers={'User-Agent': 'Mozilla/5.0 (Windows NT 10.0; Win64; x64) AppleWebKit/537.36 (KHTML, like Gecko) Chrome/58.0.3029.110 Safari/537.36 Edge/16.16299'}\n",
    "r=requests.get(url,headers=headers).content.decode('utf-8')\n",
    "#解析\n",
    "soup_python=BeautifulSoup(r,'html.parser')\n",
    "#print(soup_python.prettify())\n",
    "#获取所有的a链接\n",
    "#print(soup_python.find(id='content').ul.prettify())\n",
    "a_ul_list=soup_python.find(id='content').ul.find_all('a')\n",
    "new_url=[]\n",
    "for i in a_ul_list:\n",
    "    new_url.append(i['href'])\n",
    "print(len(new_url))"
   ]
  },
  {
   "cell_type": "code",
   "execution_count": 29,
   "metadata": {},
   "outputs": [],
   "source": [
    "# new_url=list('http://www.runoob.com/'+pd.Series(new_url))\n",
    "# new_url"
   ]
  },
  {
   "cell_type": "code",
   "execution_count": 85,
   "metadata": {},
   "outputs": [
    {
     "name": "stdout",
     "output_type": "stream",
     "text": [
      "http://www.runoob.com/python/python-exercise-example1.html\n"
     ]
    }
   ],
   "source": [
    "contents={}\n",
    "print('http://www.runoob.com'+new_url[0])"
   ]
  },
  {
   "cell_type": "code",
   "execution_count": 91,
   "metadata": {},
   "outputs": [
    {
     "name": "stdout",
     "output_type": "stream",
     "text": [
      "100\n"
     ]
    }
   ],
   "source": [
    "#print(r2)\n",
    "#找相应标签，与网页上面源码对应分析如何查找相应的标签\n",
    "flag=True\n",
    "num=0\n",
    "for i in new_url:\n",
    "    num+=1\n",
    "    if flag:\n",
    "        py100=open('py100.txt','w+',encoding='utf-8')\n",
    "    else:\n",
    "        py100=open('py100.txt','a+',encoding='utf-8')    \n",
    "    r2=requests.get('http://www.runoob.com'+i,headers=headers).content.decode('utf-8')\n",
    "    soup_r=BeautifulSoup(r2,'html.parser')\n",
    "    soup_content=soup_r.find(id='content')\n",
    "    #print(soup_r.prettify())\n",
    "    contents['title']=soup_content.h1.text\n",
    "    contents['timu']=soup_content.find_all('p')[1].text\n",
    "    contents['analyze']=soup_content.find_all('p')[2].text\n",
    "    try:\n",
    "        contents['code']=soup_content.find(attrs={'class':'example'}).text\n",
    "    except:\n",
    "        contents['code']=soup_content.find('pre').text\n",
    "    py100.write(contents['title']+'\\n')\n",
    "    py100.write(contents['timu']+'\\n')\n",
    "    py100.write(contents['analyze']+'\\n')\n",
    "    py100.write(contents['code']+'\\n')\n",
    "    py100.write('\\n'+'='*50+'\\n')\n",
    "    py100.close()\n",
    "    flag=False\n",
    "print(num)"
   ]
  },
  {
   "cell_type": "code",
   "execution_count": 25,
   "metadata": {},
   "outputs": [
    {
     "name": "stdout",
     "output_type": "stream",
     "text": [
      "<meta content=\"text/html; charset=utf-8\" http-equiv=\"Content-Type\"/>\n"
     ]
    }
   ],
   "source": [
    "#写入文件\n",
    "py100.write(contents['title'])"
   ]
  },
  {
   "cell_type": "code",
   "execution_count": null,
   "metadata": {
    "collapsed": true
   },
   "outputs": [],
   "source": []
  }
 ],
 "metadata": {
  "kernelspec": {
   "display_name": "Python 3",
   "language": "python",
   "name": "python3"
  },
  "language_info": {
   "codemirror_mode": {
    "name": "ipython",
    "version": 3
   },
   "file_extension": ".py",
   "mimetype": "text/x-python",
   "name": "python",
   "nbconvert_exporter": "python",
   "pygments_lexer": "ipython3",
   "version": "3.6.3"
  }
 },
 "nbformat": 4,
 "nbformat_minor": 2
}
